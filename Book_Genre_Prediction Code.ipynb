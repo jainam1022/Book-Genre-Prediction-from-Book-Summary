{
  "nbformat": 4,
  "nbformat_minor": 0,
  "metadata": {
    "colab": {
      "provenance": []
    },
    "kernelspec": {
      "name": "python3",
      "display_name": "Python 3"
    },
    "language_info": {
      "name": "python"
    }
  },
  "cells": [
    {
      "cell_type": "code",
      "source": [
        "import pandas as pd\n",
        "import numpy as np\n",
        "import nltk\n",
        "import matplotlib.pyplot as plt\n",
        "import seaborn as sns\n",
        "import re\n",
        "from datetime import datetime\n",
        "from sklearn.feature_extraction.text import TfidfVectorizer\n",
        "from sklearn.model_selection import train_test_split\n",
        "from tabulate import tabulate\n",
        "\n"
      ],
      "metadata": {
        "id": "_LNe0CQzV8LW"
      },
      "execution_count": null,
      "outputs": []
    },
    {
      "cell_type": "code",
      "source": [
        "import pandas as pd\n",
        "\n",
        "# Reading the CSV file from the same directory as the script\n",
        "books = pd.read_csv('data.csv')\n",
        "\n",
        "books=pd.DataFrame(books,columns=['title','synopsis','genre'])\n",
        "\n",
        "# Rename the first four desired columns explicitly\n",
        "books = books[['title', 'synopsis', 'genre']]\n",
        "\n",
        "# Display the first few rows as a nicely formatted table\n",
        "print(tabulate(books.head(), headers='keys', tablefmt='grid'))\n"
      ],
      "metadata": {
        "colab": {
          "base_uri": "https://localhost:8080/"
        },
        "id": "6w1KPcXoV5V9",
        "outputId": "d577755a-763e-46e1-829e-3e72ba2b4d12"
      },
      "execution_count": null,
      "outputs": [
        {
          "output_type": "stream",
          "name": "stdout",
          "text": [
            "+----+------------------------------------------------------------------------------------------+----------------------------------------------------------------------------------------------------------------------------------------------------------------------------------------------------------------------------------------------------------------------------------------------------------------------------------------------------------------------------------------------------------------------------------------------------------------------------------------------------------------------------------------------------------------------------------------------------------------------------------------------------------------------------------------------------------------------------------------------------------------------------------------------------------------------------------------------+---------+\n",
            "|    | title                                                                                    | synopsis                                                                                                                                                                                                                                                                                                                                                                                                                                                                                                                                                                                                                                                                                                                                                                                                                                     | genre   |\n",
            "+====+==========================================================================================+==============================================================================================================================================================================================================================================================================================================================================================================================================================================================================================================================================================================================================================================================================================================================================================================================================================================+=========+\n",
            "|  0 | Sapiens: A Brief History of Humankind                                                    | 100,000 years ago, at least six human species inhabited the earth. Today there is just one. Us. Homo sapiens.                                                                                                                                                                                                                                                                                                                                                                                                                                                                                                                                                                                                                                                                                                                                | history |\n",
            "|    |                                                                                          |                                                                                                                                                                                                                                                                                                                                                                                                                                                                                                                                                                                                                                                                                                                                                                                                                                              |         |\n",
            "|    |                                                                                          | How did our species succeed in the battle for dominance? Why did our foraging ancestors come together to create cities and kingdoms? How did we come to believe in gods, nations and human rights; to trust money, books and laws; and to be enslaved by bureaucracy, timetables and consumerism? And what will our world be like in the millennia to come?                                                                                                                                                                                                                                                                                                                                                                                                                                                                                  |         |\n",
            "|    |                                                                                          |                                                                                                                                                                                                                                                                                                                                                                                                                                                                                                                                                                                                                                                                                                                                                                                                                                              |         |\n",
            "|    |                                                                                          | In Sapiens, Dr Yuval Noah Harari spans the whole of human history, from the very first humans to walk the earth to the radical – and sometimes devastating – breakthroughs of the Cognitive, Agricultural and Scientific Revolutions. Drawing on insights from biology, anthropology, paleontology and economics, he explores how the currents of history have shaped our human societies, the animals and plants around us, and even our personalities. Have we become happier as history has unfolded? Can we ever free our behaviour from the heritage of our ancestors? And what, if anything, can we do to influence the course of the centuries to come?                                                                                                                                                                               |         |\n",
            "|    |                                                                                          |                                                                                                                                                                                                                                                                                                                                                                                                                                                                                                                                                                                                                                                                                                                                                                                                                                              |         |\n",
            "|    |                                                                                          | Bold, wide-ranging and provocative, Sapiens challenges everything we thought we knew about being human: our thoughts, our actions, our power ... and our future.                                                                                                                                                                                                                                                                                                                                                                                                                                                                                                                                                                                                                                                                             |         |\n",
            "+----+------------------------------------------------------------------------------------------+----------------------------------------------------------------------------------------------------------------------------------------------------------------------------------------------------------------------------------------------------------------------------------------------------------------------------------------------------------------------------------------------------------------------------------------------------------------------------------------------------------------------------------------------------------------------------------------------------------------------------------------------------------------------------------------------------------------------------------------------------------------------------------------------------------------------------------------------+---------+\n",
            "|  1 | Guns, Germs, and Steel: The Fates of Human Societies                                     | \"Diamond has written a book of remarkable scope ... one of the most important and readable works on the human past published in recent years.\"                                                                                                                                                                                                                                                                                                                                                                                                                                                                                                                                                                                                                                                                                               | history |\n",
            "|    |                                                                                          |                                                                                                                                                                                                                                                                                                                                                                                                                                                                                                                                                                                                                                                                                                                                                                                                                                              |         |\n",
            "|    |                                                                                          | Winner of the Pulitzer Prize and a national bestseller: the global account of the rise of civilization that is also a stunning refutation of ideas of human development based on race.                                                                                                                                                                                                                                                                                                                                                                                                                                                                                                                                                                                                                                                       |         |\n",
            "|    |                                                                                          |                                                                                                                                                                                                                                                                                                                                                                                                                                                                                                                                                                                                                                                                                                                                                                                                                                              |         |\n",
            "|    |                                                                                          | In this \"artful, informative, and delightful\" (William H. McNeill, New York Review of Books) book, Jared Diamond convincingly argues that geographical and environmental factors shaped the modern world. Societies that had a head start in food production advanced beyond the hunter-gatherer stage, and then developed writing, technology, government, and organized religion—as well as nasty germs and potent weapons of war—and adventured on sea and land to conquer and decimate preliterate cultures. A major advance in our understanding of human societies, chronicles the way that the modern world came to be and stunningly dismantles racially based theories of human history.                                                                                                                                            |         |\n",
            "|    |                                                                                          |                                                                                                                                                                                                                                                                                                                                                                                                                                                                                                                                                                                                                                                                                                                                                                                                                                              |         |\n",
            "|    |                                                                                          | Winner of the Pulitzer Prize, the Phi Beta Kappa Award in Science, the Rhone-Poulenc Prize, and the Commonwealth Club of California's Gold Medal                                                                                                                                                                                                                                                                                                                                                                                                                                                                                                                                                                                                                                                                                             |         |\n",
            "|    |                                                                                          | More book description                                                                                                                                                                                                                                                                                                                                                                                                                                                                                                                                                                                                                                                                                                                                                                                                                        |         |\n",
            "+----+------------------------------------------------------------------------------------------+----------------------------------------------------------------------------------------------------------------------------------------------------------------------------------------------------------------------------------------------------------------------------------------------------------------------------------------------------------------------------------------------------------------------------------------------------------------------------------------------------------------------------------------------------------------------------------------------------------------------------------------------------------------------------------------------------------------------------------------------------------------------------------------------------------------------------------------------+---------+\n",
            "|  2 | A People's History of the United States                                                  | In the book, Zinn presented a different side of history from the more traditional \"fundamental nationalist glorification of country\".                                                                                                                                                                                                                                                                                                                                                                                                                                                                                                                                                                                                                                                                                                        | history |\n",
            "|    |                                                                                          | Zinn portrays a side of American history that can largely be seen as the exploitation and manipulation of the majority by rigged systems that hugely favor a small aggregate of elite rulers from across the orthodox political parties.                                                                                                                                                                                                                                                                                                                                                                                                                                                                                                                                                                                                     |         |\n",
            "|    |                                                                                          | A People's History has been assigned as reading in many high schools and colleges across the United States. It has also resulted in a change in the focus of historical work, which now includes stories that previously were ignored                                                                                                                                                                                                                                                                                                                                                                                                                                                                                                                                                                                                        |         |\n",
            "|    |                                                                                          |                                                                                                                                                                                                                                                                                                                                                                                                                                                                                                                                                                                                                                                                                                                                                                                                                                              |         |\n",
            "|    |                                                                                          | Library Journal calls Howard Zinn’s book “a brilliant and moving history of the American people from the point of view of those…whose plight has been largely omitted from most histories.”                                                                                                                                                                                                                                                                                                                                                                                                                                                                                                                                                                                                                                                  |         |\n",
            "+----+------------------------------------------------------------------------------------------+----------------------------------------------------------------------------------------------------------------------------------------------------------------------------------------------------------------------------------------------------------------------------------------------------------------------------------------------------------------------------------------------------------------------------------------------------------------------------------------------------------------------------------------------------------------------------------------------------------------------------------------------------------------------------------------------------------------------------------------------------------------------------------------------------------------------------------------------+---------+\n",
            "|  3 | The Devil in the White City: Murder, Magic, and Madness at the Fair That Changed America | Author Erik Larson imbues the incredible events surrounding the 1893 Chicago World's Fair with such drama that readers may find themselves checking the book's categorization to be sure that 'The Devil in the White City' is not, in fact, a highly imaginative novel. Larson tells the stories of two men: Daniel H. Burnham, the architect responsible for the fair's construction, and H.H. Holmes, a serial killer masquerading as a charming doctor.                                                                                                                                                                                                                                                                                                                                                                                  | history |\n",
            "|    |                                                                                          |                                                                                                                                                                                                                                                                                                                                                                                                                                                                                                                                                                                                                                                                                                                                                                                                                                              |         |\n",
            "|    |                                                                                          | Burnham's challenge was immense. In a short period of time, he was forced to overcome the death of his partner and numerous other obstacles to construct the famous \"White City\" around which the fair was built. His efforts to complete the project, and the fair's incredible success, are skillfully related along with entertaining appearances by such notables as Buffalo Bill Cody, Susan B. Anthony, and Thomas Edison.                                                                                                                                                                                                                                                                                                                                                                                                             |         |\n",
            "|    |                                                                                          |                                                                                                                                                                                                                                                                                                                                                                                                                                                                                                                                                                                                                                                                                                                                                                                                                                              |         |\n",
            "|    |                                                                                          | The activities of the sinister Dr. Holmes, who is believed to be responsible for scores of murders around the time of the fair, are equally remarkable. He devised and erected the World's Fair Hotel, complete with crematorium and gas chamber, near the fairgrounds and used the event as well as his own charismatic personality to lure victims.                                                                                                                                                                                                                                                                                                                                                                                                                                                                                        |         |\n",
            "|    |                                                                                          |                                                                                                                                                                                                                                                                                                                                                                                                                                                                                                                                                                                                                                                                                                                                                                                                                                              |         |\n",
            "|    |                                                                                          | Combining the stories of an architect and a killer in one book, mostly in alternating chapters, seems like an odd choice but it works. The magical appeal and horrifying dark side of 19th-century Chicago are both revealed through Larson's skillful writing. - John Moe                                                                                                                                                                                                                                                                                                                                                                                                                                                                                                                                                                   |         |\n",
            "+----+------------------------------------------------------------------------------------------+----------------------------------------------------------------------------------------------------------------------------------------------------------------------------------------------------------------------------------------------------------------------------------------------------------------------------------------------------------------------------------------------------------------------------------------------------------------------------------------------------------------------------------------------------------------------------------------------------------------------------------------------------------------------------------------------------------------------------------------------------------------------------------------------------------------------------------------------+---------+\n",
            "|  4 | The Diary of a Young Girl                                                                | Discovered in the attic in which she spent the last years of her life, Anne Frank’s remarkable diary has become a world classic—a powerful reminder of the horrors of war and an eloquent testament to the human spirit.                                                                                                                                                                                                                                                                                                                                                                                                                                                                                                                                                                                                                     | history |\n",
            "|    |                                                                                          |                                                                                                                                                                                                                                                                                                                                                                                                                                                                                                                                                                                                                                                                                                                                                                                                                                              |         |\n",
            "|    |                                                                                          | In 1942, with the Nazis occupying Holland, a thirteen-year-old Jewish girl and her family fled their home in Amsterdam and went into hiding. For the next two years, until their whereabouts were betrayed to the Gestapo, the Franks and another family lived cloistered in the “Secret Annexe” of an old office building. Cut off from the outside world, they faced hunger, boredom, the constant cruelties of living in confined quarters, and the ever-present threat of discovery and death. In her diary Anne Frank recorded vivid impressions of her experiences during this period. By turns thoughtful, moving, and surprisingly humorous, her account offers a fascinating commentary on human courage and frailty and a compelling self-portrait of a sensitive and spirited young woman whose promise was tragically cut short. |         |\n",
            "|    |                                                                                          | --back cover                                                                                                                                                                                                                                                                                                                                                                                                                                                                                                                                                                                                                                                                                                                                                                                                                                 |         |\n",
            "|    |                                                                                          | More book description                                                                                                                                                                                                                                                                                                                                                                                                                                                                                                                                                                                                                                                                                                                                                                                                                        |         |\n",
            "+----+------------------------------------------------------------------------------------------+----------------------------------------------------------------------------------------------------------------------------------------------------------------------------------------------------------------------------------------------------------------------------------------------------------------------------------------------------------------------------------------------------------------------------------------------------------------------------------------------------------------------------------------------------------------------------------------------------------------------------------------------------------------------------------------------------------------------------------------------------------------------------------------------------------------------------------------------+---------+\n"
          ]
        }
      ]
    },
    {
      "cell_type": "code",
      "source": [
        "# Group by the 'genre' column and count the number of books in each genre\n",
        "genre_group = books.groupby('genre').size().reset_index(name='count')\n",
        "\n",
        "# Display the grouped data as a DataFrame\n",
        "print(genre_group)\n"
      ],
      "metadata": {
        "colab": {
          "base_uri": "https://localhost:8080/"
        },
        "id": "ZRiFfj4ZeUH3",
        "outputId": "97f9f8b5-9c2d-48ec-a3d9-6101c14b897d"
      },
      "execution_count": null,
      "outputs": [
        {
          "output_type": "stream",
          "name": "stdout",
          "text": [
            "             genre  count\n",
            "0          fantasy    348\n",
            "1          history     99\n",
            "2           horror    100\n",
            "3       psychology     99\n",
            "4          romance    111\n",
            "5          science     79\n",
            "6  science_fiction     45\n",
            "7           sports     79\n",
            "8         thriller    481\n",
            "9           travel     98\n"
          ]
        }
      ]
    },
    {
      "cell_type": "code",
      "source": [
        "#Displaying \"summary\" before preprocessing begins.\n",
        "\n",
        "print(\"Snapshot of books['synopsis']\\n\\n\")\n",
        "books['synopsis']\n",
        "\n"
      ],
      "metadata": {
        "colab": {
          "base_uri": "https://localhost:8080/",
          "height": 510
        },
        "id": "lYCJXI_Le3Gf",
        "outputId": "cbf6c62b-3e40-4538-912c-473b86ad8604"
      },
      "execution_count": null,
      "outputs": [
        {
          "output_type": "stream",
          "name": "stdout",
          "text": [
            "Snapshot of books['synopsis']\n",
            "\n",
            "\n"
          ]
        },
        {
          "output_type": "execute_result",
          "data": {
            "text/plain": [
              "0       100,000 years ago, at least six human species ...\n",
              "1       \"Diamond has written a book of remarkable scop...\n",
              "2       In the book, Zinn presented a different side o...\n",
              "3       Author Erik Larson imbues the incredible event...\n",
              "4       Discovered in the attic in which she spent the...\n",
              "                              ...                        \n",
              "1534    Atticus O’Sullivan, last of the Druids, lives ...\n",
              "1535    Charlie Bucket's wonderful adventure begins wh...\n",
              "1536    \"I live for the dream that my children will be...\n",
              "1537    Rose loves Dimitri, Dimitri might love Tasha, ...\n",
              "1538    The Prince of no value\\nBrishen Khaskem, princ...\n",
              "Name: synopsis, Length: 1539, dtype: object"
            ],
            "text/html": [
              "<div>\n",
              "<style scoped>\n",
              "    .dataframe tbody tr th:only-of-type {\n",
              "        vertical-align: middle;\n",
              "    }\n",
              "\n",
              "    .dataframe tbody tr th {\n",
              "        vertical-align: top;\n",
              "    }\n",
              "\n",
              "    .dataframe thead th {\n",
              "        text-align: right;\n",
              "    }\n",
              "</style>\n",
              "<table border=\"1\" class=\"dataframe\">\n",
              "  <thead>\n",
              "    <tr style=\"text-align: right;\">\n",
              "      <th></th>\n",
              "      <th>synopsis</th>\n",
              "    </tr>\n",
              "  </thead>\n",
              "  <tbody>\n",
              "    <tr>\n",
              "      <th>0</th>\n",
              "      <td>100,000 years ago, at least six human species ...</td>\n",
              "    </tr>\n",
              "    <tr>\n",
              "      <th>1</th>\n",
              "      <td>\"Diamond has written a book of remarkable scop...</td>\n",
              "    </tr>\n",
              "    <tr>\n",
              "      <th>2</th>\n",
              "      <td>In the book, Zinn presented a different side o...</td>\n",
              "    </tr>\n",
              "    <tr>\n",
              "      <th>3</th>\n",
              "      <td>Author Erik Larson imbues the incredible event...</td>\n",
              "    </tr>\n",
              "    <tr>\n",
              "      <th>4</th>\n",
              "      <td>Discovered in the attic in which she spent the...</td>\n",
              "    </tr>\n",
              "    <tr>\n",
              "      <th>...</th>\n",
              "      <td>...</td>\n",
              "    </tr>\n",
              "    <tr>\n",
              "      <th>1534</th>\n",
              "      <td>Atticus O’Sullivan, last of the Druids, lives ...</td>\n",
              "    </tr>\n",
              "    <tr>\n",
              "      <th>1535</th>\n",
              "      <td>Charlie Bucket's wonderful adventure begins wh...</td>\n",
              "    </tr>\n",
              "    <tr>\n",
              "      <th>1536</th>\n",
              "      <td>\"I live for the dream that my children will be...</td>\n",
              "    </tr>\n",
              "    <tr>\n",
              "      <th>1537</th>\n",
              "      <td>Rose loves Dimitri, Dimitri might love Tasha, ...</td>\n",
              "    </tr>\n",
              "    <tr>\n",
              "      <th>1538</th>\n",
              "      <td>The Prince of no value\\nBrishen Khaskem, princ...</td>\n",
              "    </tr>\n",
              "  </tbody>\n",
              "</table>\n",
              "<p>1539 rows × 1 columns</p>\n",
              "</div><br><label><b>dtype:</b> object</label>"
            ]
          },
          "metadata": {},
          "execution_count": 4
        }
      ]
    },
    {
      "cell_type": "code",
      "source": [
        "# function for text cleaning\n",
        "\n",
        "def clean(text):\n",
        "    # remove backslash-apostrophe\n",
        "    text = re.sub(\"\\'\", \"\", text)\n",
        "    # remove everything except alphabets\n",
        "    text = re.sub(\"[^a-zA-Z]\",\" \",text)\n",
        "    # remove whitespaces\n",
        "    text = ' '.join(text.split())\n",
        "    # convert text to lowercase\n",
        "    text = text.lower()\n",
        "\n",
        "    return text\n",
        "\n",
        "books.loc[:,'synopsis']=books.loc[:,'synopsis'].apply(lambda x: clean(x))\n",
        "\n",
        "\n",
        "\n",
        "#Displaying \"summary\" after text-cleaning.\n",
        "\n",
        "print(\"Snapshot of books['synopsis']\\n\\n\")\n",
        "books['synopsis']"
      ],
      "metadata": {
        "colab": {
          "base_uri": "https://localhost:8080/",
          "height": 510
        },
        "id": "rsyXgADUguUl",
        "outputId": "983ec927-076b-4214-c130-31c13cdad482"
      },
      "execution_count": null,
      "outputs": [
        {
          "output_type": "stream",
          "name": "stdout",
          "text": [
            "Snapshot of books['synopsis']\n",
            "\n",
            "\n"
          ]
        },
        {
          "output_type": "execute_result",
          "data": {
            "text/plain": [
              "0       years ago at least six human species inhabited...\n",
              "1       diamond has written a book of remarkable scope...\n",
              "2       in the book zinn presented a different side of...\n",
              "3       author erik larson imbues the incredible event...\n",
              "4       discovered in the attic in which she spent the...\n",
              "                              ...                        \n",
              "1534    atticus o sullivan last of the druids lives pe...\n",
              "1535    charlie buckets wonderful adventure begins whe...\n",
              "1536    i live for the dream that my children will be ...\n",
              "1537    rose loves dimitri dimitri might love tasha an...\n",
              "1538    the prince of no value brishen khaskem prince ...\n",
              "Name: synopsis, Length: 1539, dtype: object"
            ],
            "text/html": [
              "<div>\n",
              "<style scoped>\n",
              "    .dataframe tbody tr th:only-of-type {\n",
              "        vertical-align: middle;\n",
              "    }\n",
              "\n",
              "    .dataframe tbody tr th {\n",
              "        vertical-align: top;\n",
              "    }\n",
              "\n",
              "    .dataframe thead th {\n",
              "        text-align: right;\n",
              "    }\n",
              "</style>\n",
              "<table border=\"1\" class=\"dataframe\">\n",
              "  <thead>\n",
              "    <tr style=\"text-align: right;\">\n",
              "      <th></th>\n",
              "      <th>synopsis</th>\n",
              "    </tr>\n",
              "  </thead>\n",
              "  <tbody>\n",
              "    <tr>\n",
              "      <th>0</th>\n",
              "      <td>years ago at least six human species inhabited...</td>\n",
              "    </tr>\n",
              "    <tr>\n",
              "      <th>1</th>\n",
              "      <td>diamond has written a book of remarkable scope...</td>\n",
              "    </tr>\n",
              "    <tr>\n",
              "      <th>2</th>\n",
              "      <td>in the book zinn presented a different side of...</td>\n",
              "    </tr>\n",
              "    <tr>\n",
              "      <th>3</th>\n",
              "      <td>author erik larson imbues the incredible event...</td>\n",
              "    </tr>\n",
              "    <tr>\n",
              "      <th>4</th>\n",
              "      <td>discovered in the attic in which she spent the...</td>\n",
              "    </tr>\n",
              "    <tr>\n",
              "      <th>...</th>\n",
              "      <td>...</td>\n",
              "    </tr>\n",
              "    <tr>\n",
              "      <th>1534</th>\n",
              "      <td>atticus o sullivan last of the druids lives pe...</td>\n",
              "    </tr>\n",
              "    <tr>\n",
              "      <th>1535</th>\n",
              "      <td>charlie buckets wonderful adventure begins whe...</td>\n",
              "    </tr>\n",
              "    <tr>\n",
              "      <th>1536</th>\n",
              "      <td>i live for the dream that my children will be ...</td>\n",
              "    </tr>\n",
              "    <tr>\n",
              "      <th>1537</th>\n",
              "      <td>rose loves dimitri dimitri might love tasha an...</td>\n",
              "    </tr>\n",
              "    <tr>\n",
              "      <th>1538</th>\n",
              "      <td>the prince of no value brishen khaskem prince ...</td>\n",
              "    </tr>\n",
              "  </tbody>\n",
              "</table>\n",
              "<p>1539 rows × 1 columns</p>\n",
              "</div><br><label><b>dtype:</b> object</label>"
            ]
          },
          "metadata": {},
          "execution_count": 5
        }
      ]
    },
    {
      "cell_type": "code",
      "source": [
        "print(\"Graph to visualize the words and frequency in book's summary.\\n\\n\")\n",
        "\n",
        "def freqwords(x, terms):\n",
        "  allwords = ' '.join([text for text in x])\n",
        "  allwords = allwords.split()\n",
        "  fdist = nltk.FreqDist(allwords)\n",
        "  wordsdf = pd.DataFrame({'word':list(fdist.keys()), 'count':list(fdist.values())})\n",
        "\n",
        "\n",
        "  d = wordsdf.nlargest(columns=\"count\", n = terms)\n",
        "\n",
        "  # visualize words and frequencies\n",
        "  plt.figure(figsize=(7,5))\n",
        "  ax = sns.barplot(data=d, x= \"count\", y = \"word\")\n",
        "  ax.set(ylabel = 'Word')\n",
        "  plt.show()\n",
        "\n",
        "# print 25 most frequent words\n",
        "freqwords(books['synopsis'], 25)"
      ],
      "metadata": {
        "colab": {
          "base_uri": "https://localhost:8080/",
          "height": 517
        },
        "id": "7BCgDO_Rg-Sl",
        "outputId": "ba419af2-7417-4e2f-82fa-096dece11fce"
      },
      "execution_count": null,
      "outputs": [
        {
          "output_type": "stream",
          "name": "stdout",
          "text": [
            "Graph to visualize the words and frequency in book's summary.\n",
            "\n",
            "\n"
          ]
        },
        {
          "output_type": "display_data",
          "data": {
            "text/plain": [
              "<Figure size 700x500 with 1 Axes>"
            ],
            "image/png": "[encoded data removed]"
          },
          "metadata": {}
        }
      ]
    },
    {
      "cell_type": "code",
      "source": [
        "nltk.download('wordnet')\n",
        "from nltk.stem import WordNetLemmatizer\n",
        "\n",
        "lemma=WordNetLemmatizer()\n",
        "\n",
        "def lematizing(sentence):\n",
        "    stemSentence = \"\"\n",
        "    for word in sentence.split():\n",
        "        stem = lemma.lemmatize(word)\n",
        "        stemSentence += stem\n",
        "        stemSentence += \" \"\n",
        "    stemSentence = stemSentence.strip()\n",
        "    return stemSentence\n",
        "\n",
        "\n",
        "books['synopsis'] = books['synopsis'].apply(lambda x: lematizing(x))"
      ],
      "metadata": {
        "colab": {
          "base_uri": "https://localhost:8080/"
        },
        "id": "2N8cQ3u1hpv5",
        "outputId": "ec801056-132b-400c-dd89-6f9b61de08f5"
      },
      "execution_count": null,
      "outputs": [
        {
          "output_type": "stream",
          "name": "stderr",
          "text": [
            "[nltk_data] Downloading package wordnet to /root/nltk_data...\n"
          ]
        }
      ]
    },
    {
      "cell_type": "code",
      "source": [
        "#Displaying \"summary\" after Lemmmatization\n",
        "\n",
        "print(\"Snapshot of books['synopsis']\\n\\n\")\n",
        "\n",
        "books['synopsis']"
      ],
      "metadata": {
        "colab": {
          "base_uri": "https://localhost:8080/",
          "height": 510
        },
        "id": "kq2x_ZWah-1D",
        "outputId": "a0037c71-47f6-4056-b8de-70414e3577e4"
      },
      "execution_count": null,
      "outputs": [
        {
          "output_type": "stream",
          "name": "stdout",
          "text": [
            "Snapshot of books['synopsis']\n",
            "\n",
            "\n"
          ]
        },
        {
          "output_type": "execute_result",
          "data": {
            "text/plain": [
              "0       year ago at least six human specie inhabited t...\n",
              "1       diamond ha written a book of remarkable scope ...\n",
              "2       in the book zinn presented a different side of...\n",
              "3       author erik larson imbues the incredible event...\n",
              "4       discovered in the attic in which she spent the...\n",
              "                              ...                        \n",
              "1534    atticus o sullivan last of the druid life peac...\n",
              "1535    charlie bucket wonderful adventure begin when ...\n",
              "1536    i live for the dream that my child will be bor...\n",
              "1537    rose love dimitri dimitri might love tasha and...\n",
              "1538    the prince of no value brishen khaskem prince ...\n",
              "Name: synopsis, Length: 1539, dtype: object"
            ],
            "text/html": [
              "<div>\n",
              "<style scoped>\n",
              "    .dataframe tbody tr th:only-of-type {\n",
              "        vertical-align: middle;\n",
              "    }\n",
              "\n",
              "    .dataframe tbody tr th {\n",
              "        vertical-align: top;\n",
              "    }\n",
              "\n",
              "    .dataframe thead th {\n",
              "        text-align: right;\n",
              "    }\n",
              "</style>\n",
              "<table border=\"1\" class=\"dataframe\">\n",
              "  <thead>\n",
              "    <tr style=\"text-align: right;\">\n",
              "      <th></th>\n",
              "      <th>synopsis</th>\n",
              "    </tr>\n",
              "  </thead>\n",
              "  <tbody>\n",
              "    <tr>\n",
              "      <th>0</th>\n",
              "      <td>year ago at least six human specie inhabited t...</td>\n",
              "    </tr>\n",
              "    <tr>\n",
              "      <th>1</th>\n",
              "      <td>diamond ha written a book of remarkable scope ...</td>\n",
              "    </tr>\n",
              "    <tr>\n",
              "      <th>2</th>\n",
              "      <td>in the book zinn presented a different side of...</td>\n",
              "    </tr>\n",
              "    <tr>\n",
              "      <th>3</th>\n",
              "      <td>author erik larson imbues the incredible event...</td>\n",
              "    </tr>\n",
              "    <tr>\n",
              "      <th>4</th>\n",
              "      <td>discovered in the attic in which she spent the...</td>\n",
              "    </tr>\n",
              "    <tr>\n",
              "      <th>...</th>\n",
              "      <td>...</td>\n",
              "    </tr>\n",
              "    <tr>\n",
              "      <th>1534</th>\n",
              "      <td>atticus o sullivan last of the druid life peac...</td>\n",
              "    </tr>\n",
              "    <tr>\n",
              "      <th>1535</th>\n",
              "      <td>charlie bucket wonderful adventure begin when ...</td>\n",
              "    </tr>\n",
              "    <tr>\n",
              "      <th>1536</th>\n",
              "      <td>i live for the dream that my child will be bor...</td>\n",
              "    </tr>\n",
              "    <tr>\n",
              "      <th>1537</th>\n",
              "      <td>rose love dimitri dimitri might love tasha and...</td>\n",
              "    </tr>\n",
              "    <tr>\n",
              "      <th>1538</th>\n",
              "      <td>the prince of no value brishen khaskem prince ...</td>\n",
              "    </tr>\n",
              "  </tbody>\n",
              "</table>\n",
              "<p>1539 rows × 1 columns</p>\n",
              "</div><br><label><b>dtype:</b> object</label>"
            ]
          },
          "metadata": {},
          "execution_count": 8
        }
      ]
    },
    {
      "cell_type": "code",
      "source": [
        "#Function to visualize the words and frequency in book's summary.\n",
        "\n",
        "\n",
        "# print 25 most frequent words\n",
        "freqwords(books['synopsis'], 25)"
      ],
      "metadata": {
        "colab": {
          "base_uri": "https://localhost:8080/",
          "height": 465
        },
        "id": "S2pUDaiBiJjV",
        "outputId": "61f7c5c9-d8ae-4d74-f03b-ed4cb2136f03"
      },
      "execution_count": null,
      "outputs": [
        {
          "output_type": "display_data",
          "data": {
            "text/plain": [
              "<Figure size 700x500 with 1 Axes>"
            ],
            "image/png": "[encoded data removed]"
          },
          "metadata": {}
        }
      ]
    },
    {
      "cell_type": "code",
      "source": [
        "# Split data into features (X) and target (y)\n",
        "X = books['synopsis']  # Features - synopsis text\n",
        "y = books['genre']      # Target - genre\n",
        "\n",
        "# Split the data into training (80%) and testing (20%) sets\n",
        "xtrain, xval, ytrain, yval = train_test_split(X, y, test_size=0.2, random_state=42)\n",
        "\n",
        "# Display the number of items in training and testing splits\n",
        "print(f\"Training data size: {len(xtrain)}\")\n",
        "print(f\"Testing data size: {len(xval)}\")\n"
      ],
      "metadata": {
        "id": "bRzGIpumjKIN",
        "colab": {
          "base_uri": "https://localhost:8080/"
        },
        "outputId": "53e8ef29-306b-4e64-91aa-b95d30b86418"
      },
      "execution_count": null,
      "outputs": [
        {
          "output_type": "stream",
          "name": "stdout",
          "text": [
            "Training data size: 1231\n",
            "Testing data size: 308\n"
          ]
        }
      ]
    },
    {
      "cell_type": "code",
      "source": [
        "tfidf_vectorizer = TfidfVectorizer(max_df=0.8, max_features=10000)\n",
        "\n",
        "xtrain_tfidf = tfidf_vectorizer.fit_transform(xtrain.values.astype('U'))\n",
        "\n",
        "xval_tfidf = tfidf_vectorizer.transform(xval.values.astype('U'))"
      ],
      "metadata": {
        "id": "c3y36t16jR32"
      },
      "execution_count": null,
      "outputs": []
    },
    {
      "cell_type": "code",
      "source": [
        "from datetime import datetime\n",
        "from sklearn.linear_model import LogisticRegression\n",
        "from sklearn.multiclass import OneVsRestClassifier\n",
        "from sklearn.metrics import accuracy_score, classification_report\n",
        "\n",
        "# Start timer\n",
        "start = datetime.now()\n",
        "\n",
        "# Initialize Logistic Regression and wrap it with OneVsRestClassifier\n",
        "lr = LogisticRegression()\n",
        "clf = OneVsRestClassifier(lr)\n",
        "\n",
        "# Train the model on training data\n",
        "clf.fit(xtrain_tfidf, ytrain)\n",
        "\n",
        "# Predict on the validation set\n",
        "y_pred_lr = clf.predict(xval_tfidf)\n",
        "\n",
        "# Evaluate model performance\n",
        "accuracy = accuracy_score(yval, y_pred_lr)\n",
        "report = classification_report(yval, y_pred_lr)\n",
        "\n",
        "# Output results\n",
        "print(f\"Accuracy Score: {accuracy}\")\n",
        "print(\"\\nClassification Report:\")\n",
        "print(report)\n",
        "\n",
        "# End timer and print execution time\n",
        "end_time = datetime.now()\n",
        "print(f\"\\nExecuted in: {end_time - start}\")\n"
      ],
      "metadata": {
        "colab": {
          "base_uri": "https://localhost:8080/"
        },
        "id": "9-MSgAwfjjgC",
        "outputId": "89f42757-4bcc-4d2c-9c0c-4134b7ded32c"
      },
      "execution_count": null,
      "outputs": [
        {
          "output_type": "stream",
          "name": "stdout",
          "text": [
            "Accuracy Score: 0.6298701298701299\n",
            "\n",
            "Classification Report:\n",
            "                 precision    recall  f1-score   support\n",
            "\n",
            "        fantasy       0.78      0.93      0.85        69\n",
            "        history       0.71      0.28      0.40        18\n",
            "         horror       0.00      0.00      0.00        15\n",
            "     psychology       0.65      0.62      0.63        21\n",
            "        romance       0.00      0.00      0.00        24\n",
            "        science       1.00      0.29      0.44        21\n",
            "science_fiction       0.00      0.00      0.00         5\n",
            "         sports       0.00      0.00      0.00        17\n",
            "       thriller       0.54      1.00      0.70       100\n",
            "         travel       1.00      0.33      0.50        18\n",
            "\n",
            "       accuracy                           0.63       308\n",
            "      macro avg       0.47      0.34      0.35       308\n",
            "   weighted avg       0.56      0.63      0.54       308\n",
            "\n",
            "\n",
            "Executed in: 0:00:01.065635\n"
          ]
        },
        {
          "output_type": "stream",
          "name": "stderr",
          "text": [
            "/usr/local/lib/python3.10/dist-packages/sklearn/metrics/_classification.py:1531: UndefinedMetricWarning: Precision is ill-defined and being set to 0.0 in labels with no predicted samples. Use `zero_division` parameter to control this behavior.\n",
            "  _warn_prf(average, modifier, f\"{metric.capitalize()} is\", len(result))\n",
            "/usr/local/lib/python3.10/dist-packages/sklearn/metrics/_classification.py:1531: UndefinedMetricWarning: Precision is ill-defined and being set to 0.0 in labels with no predicted samples. Use `zero_division` parameter to control this behavior.\n",
            "  _warn_prf(average, modifier, f\"{metric.capitalize()} is\", len(result))\n",
            "/usr/local/lib/python3.10/dist-packages/sklearn/metrics/_classification.py:1531: UndefinedMetricWarning: Precision is ill-defined and being set to 0.0 in labels with no predicted samples. Use `zero_division` parameter to control this behavior.\n",
            "  _warn_prf(average, modifier, f\"{metric.capitalize()} is\", len(result))\n"
          ]
        }
      ]
    },
    {
      "cell_type": "code",
      "source": [
        "start=datetime.now()\n",
        "\n",
        "from sklearn import svm\n",
        "\n",
        "svc = svm.SVC(kernel='linear').fit(xtrain_tfidf,ytrain)\n",
        "\n",
        "svpred=svc.predict(xval_tfidf)\n",
        "\n",
        "from sklearn.metrics import accuracy_score\n",
        "from sklearn.metrics import classification_report\n",
        "\n",
        "print( 'Accuracy Score :',accuracy_score(yval,svpred) )\n",
        "print ('Report : ')\n",
        "print(classification_report(yval,svpred))\n",
        "\n",
        "print(\"Executed in \",datetime.now()-start)"
      ],
      "metadata": {
        "colab": {
          "base_uri": "https://localhost:8080/"
        },
        "id": "tNCVBf2Nj4Vs",
        "outputId": "0d805b17-bc81-45f6-df64-fa771d8550fa"
      },
      "execution_count": null,
      "outputs": [
        {
          "output_type": "stream",
          "name": "stdout",
          "text": [
            "Accuracy Score : 0.7727272727272727\n",
            "Report : \n",
            "                 precision    recall  f1-score   support\n",
            "\n",
            "        fantasy       0.82      0.96      0.89        69\n",
            "        history       0.75      0.67      0.71        18\n",
            "         horror       1.00      0.13      0.24        15\n",
            "     psychology       0.86      0.86      0.86        21\n",
            "        romance       0.57      0.17      0.26        24\n",
            "        science       0.94      0.71      0.81        21\n",
            "science_fiction       1.00      0.20      0.33         5\n",
            "         sports       1.00      0.59      0.74        17\n",
            "       thriller       0.69      0.99      0.81       100\n",
            "         travel       0.92      0.61      0.73        18\n",
            "\n",
            "       accuracy                           0.77       308\n",
            "      macro avg       0.86      0.59      0.64       308\n",
            "   weighted avg       0.79      0.77      0.74       308\n",
            "\n",
            "Executed in  0:00:04.080058\n"
          ]
        }
      ]
    },
    {
      "cell_type": "code",
      "source": [
        "from datetime import datetime\n",
        "from sklearn.ensemble import RandomForestClassifier\n",
        "from sklearn.metrics import accuracy_score, classification_report\n",
        "\n",
        "# Start timer\n",
        "start = datetime.now()\n",
        "\n",
        "# Initialize Random Forest model\n",
        "rf = RandomForestClassifier(n_estimators=100, random_state=42)\n",
        "\n",
        "# Train the model\n",
        "rf.fit(xtrain_tfidf, ytrain)\n",
        "\n",
        "# Predict on validation data\n",
        "y_pred_rf = rf.predict(xval_tfidf)\n",
        "\n",
        "# Evaluate the model\n",
        "accuracy = accuracy_score(yval, y_pred_rf)\n",
        "report = classification_report(yval, y_pred_rf)\n",
        "\n",
        "# Output results\n",
        "print(f\"Accuracy Score: {accuracy}\")\n",
        "print(\"\\nClassification Report:\")\n",
        "print(report)\n",
        "\n",
        "# End timer and print execution time\n",
        "end_time = datetime.now()\n",
        "print(f\"\\nExecuted in: {end_time - start}\")\n"
      ],
      "metadata": {
        "colab": {
          "base_uri": "https://localhost:8080/"
        },
        "id": "SCgHUiTHkdhy",
        "outputId": "dd90d028-c8be-4b49-b0cd-fc7c07e67044"
      },
      "execution_count": null,
      "outputs": [
        {
          "output_type": "stream",
          "name": "stdout",
          "text": [
            "Accuracy Score: 0.6331168831168831\n",
            "\n",
            "Classification Report:\n",
            "                 precision    recall  f1-score   support\n",
            "\n",
            "        fantasy       0.67      0.77      0.72        69\n",
            "        history       0.78      0.39      0.52        18\n",
            "         horror       0.00      0.00      0.00        15\n",
            "     psychology       0.72      0.62      0.67        21\n",
            "        romance       0.00      0.00      0.00        24\n",
            "        science       0.85      0.52      0.65        21\n",
            "science_fiction       0.00      0.00      0.00         5\n",
            "         sports       1.00      0.24      0.38        17\n",
            "       thriller       0.57      0.96      0.71       100\n",
            "         travel       0.69      0.61      0.65        18\n",
            "\n",
            "       accuracy                           0.63       308\n",
            "      macro avg       0.53      0.41      0.43       308\n",
            "   weighted avg       0.58      0.63      0.57       308\n",
            "\n",
            "\n",
            "Executed in: 0:00:01.641916\n"
          ]
        },
        {
          "output_type": "stream",
          "name": "stderr",
          "text": [
            "/usr/local/lib/python3.10/dist-packages/sklearn/metrics/_classification.py:1531: UndefinedMetricWarning: Precision is ill-defined and being set to 0.0 in labels with no predicted samples. Use `zero_division` parameter to control this behavior.\n",
            "  _warn_prf(average, modifier, f\"{metric.capitalize()} is\", len(result))\n",
            "/usr/local/lib/python3.10/dist-packages/sklearn/metrics/_classification.py:1531: UndefinedMetricWarning: Precision is ill-defined and being set to 0.0 in labels with no predicted samples. Use `zero_division` parameter to control this behavior.\n",
            "  _warn_prf(average, modifier, f\"{metric.capitalize()} is\", len(result))\n",
            "/usr/local/lib/python3.10/dist-packages/sklearn/metrics/_classification.py:1531: UndefinedMetricWarning: Precision is ill-defined and being set to 0.0 in labels with no predicted samples. Use `zero_division` parameter to control this behavior.\n",
            "  _warn_prf(average, modifier, f\"{metric.capitalize()} is\", len(result))\n"
          ]
        }
      ]
    },
    {
      "cell_type": "code",
      "source": [
        "from datetime import datetime\n",
        "from sklearn import svm\n",
        "from sklearn.metrics import accuracy_score, classification_report\n",
        "import pandas as pd  # Import pandas for Series manipulation\n",
        "\n",
        "start = datetime.now()\n",
        "\n",
        "# Train the SVM classifier\n",
        "svc = svm.SVC(kernel='linear')\n",
        "svc.fit(xtrain_tfidf, ytrain)\n",
        "\n",
        "# Make predictions on the first 10 examples from the validation set\n",
        "test_samples = xval_tfidf[:10]  # Select the first 10 book samples\n",
        "predictions = svc.predict(test_samples)\n",
        "\n",
        "# Convert yval to a pandas Series for proper index-based access\n",
        "yval_series = pd.Series(yval)\n",
        "\n",
        "# Print the predictions with book titles and their actual genres\n",
        "for idx, pred in enumerate(predictions):\n",
        "    print(f\"Book: {books.iloc[idx]['title']}\")\n",
        "    print(f\"Predicted genre: {pred}\")\n",
        "    print(f\"Actual genre: {yval_series.iloc[idx]}\")\n",
        "    print(\"-\" * 50)  # Separator for clarity between predictions\n",
        "\n",
        "# Evaluate the accuracy of the first 10 predictions\n",
        "print(\"\\nAccuracy Score:\", accuracy_score(yval[:10], predictions))\n",
        "print(\"\\nClassification Report:\")\n",
        "print(classification_report(yval[:10], predictions))\n",
        "\n",
        "# Print execution time\n",
        "print(\"\\nExecuted in:\", datetime.now() - start)\n"
      ],
      "metadata": {
        "colab": {
          "base_uri": "https://localhost:8080/"
        },
        "id": "JupcpWNqntuo",
        "outputId": "7104c762-19fc-4ca1-f640-4da9ce758412"
      },
      "execution_count": null,
      "outputs": [
        {
          "output_type": "stream",
          "name": "stdout",
          "text": [
            "Book: Sapiens: A Brief History of Humankind\n",
            "Predicted genre: fantasy\n",
            "Actual genre: fantasy\n",
            "--------------------------------------------------\n",
            "Book: Guns, Germs, and Steel: The Fates of Human Societies\n",
            "Predicted genre: thriller\n",
            "Actual genre: thriller\n",
            "--------------------------------------------------\n",
            "Book: A People's History of the United States\n",
            "Predicted genre: thriller\n",
            "Actual genre: romance\n",
            "--------------------------------------------------\n",
            "Book: The Devil in the White City: Murder, Magic, and Madness at the Fair That Changed America\n",
            "Predicted genre: thriller\n",
            "Actual genre: thriller\n",
            "--------------------------------------------------\n",
            "Book: The Diary of a Young Girl\n",
            "Predicted genre: thriller\n",
            "Actual genre: travel\n",
            "--------------------------------------------------\n",
            "Book: 1776\n",
            "Predicted genre: history\n",
            "Actual genre: history\n",
            "--------------------------------------------------\n",
            "Book: A Short History of Nearly Everything\n",
            "Predicted genre: romance\n",
            "Actual genre: travel\n",
            "--------------------------------------------------\n",
            "Book: The Rise and Fall of the Third Reich: A History of Nazi Germany\n",
            "Predicted genre: fantasy\n",
            "Actual genre: fantasy\n",
            "--------------------------------------------------\n",
            "Book: 1491: New Revelations of the Americas Before Columbus\n",
            "Predicted genre: thriller\n",
            "Actual genre: fantasy\n",
            "--------------------------------------------------\n",
            "Book: SPQR: A History of Ancient Rome\n",
            "Predicted genre: fantasy\n",
            "Actual genre: horror\n",
            "--------------------------------------------------\n",
            "\n",
            "Accuracy Score: 0.5\n",
            "\n",
            "Classification Report:\n",
            "              precision    recall  f1-score   support\n",
            "\n",
            "     fantasy       0.67      0.67      0.67         3\n",
            "     history       1.00      1.00      1.00         1\n",
            "      horror       0.00      0.00      0.00         1\n",
            "     romance       0.00      0.00      0.00         1\n",
            "    thriller       0.40      1.00      0.57         2\n",
            "      travel       0.00      0.00      0.00         2\n",
            "\n",
            "    accuracy                           0.50        10\n",
            "   macro avg       0.34      0.44      0.37        10\n",
            "weighted avg       0.38      0.50      0.41        10\n",
            "\n",
            "\n",
            "Executed in: 0:00:03.447724\n"
          ]
        },
        {
          "output_type": "stream",
          "name": "stderr",
          "text": [
            "/usr/local/lib/python3.10/dist-packages/sklearn/metrics/_classification.py:1531: UndefinedMetricWarning: Precision is ill-defined and being set to 0.0 in labels with no predicted samples. Use `zero_division` parameter to control this behavior.\n",
            "  _warn_prf(average, modifier, f\"{metric.capitalize()} is\", len(result))\n",
            "/usr/local/lib/python3.10/dist-packages/sklearn/metrics/_classification.py:1531: UndefinedMetricWarning: Precision is ill-defined and being set to 0.0 in labels with no predicted samples. Use `zero_division` parameter to control this behavior.\n",
            "  _warn_prf(average, modifier, f\"{metric.capitalize()} is\", len(result))\n",
            "/usr/local/lib/python3.10/dist-packages/sklearn/metrics/_classification.py:1531: UndefinedMetricWarning: Precision is ill-defined and being set to 0.0 in labels with no predicted samples. Use `zero_division` parameter to control this behavior.\n",
            "  _warn_prf(average, modifier, f\"{metric.capitalize()} is\", len(result))\n"
          ]
        }
      ]
    },
    {
      "cell_type": "code",
      "source": [
        "from sklearn.model_selection import GridSearchCV\n",
        "from sklearn.metrics import confusion_matrix, accuracy_score, classification_report\n",
        "import matplotlib.pyplot as plt\n",
        "\n",
        "# Enhance TF-IDF vectorization with bi-grams and minimum document frequency\n",
        "tfidf_vectorizer = TfidfVectorizer(max_df=0.8, max_features=10000, ngram_range=(1, 2), min_df=5)\n",
        "xtrain_tfidf = tfidf_vectorizer.fit_transform(xtrain.values.astype('U'))\n",
        "xval_tfidf = tfidf_vectorizer.transform(xval.values.astype('U'))"
      ],
      "metadata": {
        "id": "xnzAIXtA05J-"
      },
      "execution_count": null,
      "outputs": []
    },
    {
      "cell_type": "code",
      "source": [
        "# Logistic Regression - Hyperparameter Tuning\n",
        "print(\"\\nRunning hyperparameter tuning for Logistic Regression...\")\n",
        "param_grid_lr = {'C': [0.1, 1, 10, 100]}  # Logistic Regression hyperparameter tuning\n",
        "grid_lr = GridSearchCV(LogisticRegression(class_weight='balanced'), param_grid_lr, cv=5, n_jobs=-1, scoring='accuracy')\n",
        "grid_lr.fit(xtrain_tfidf, ytrain)\n",
        "\n",
        "# Evaluate the best Logistic Regression model\n",
        "best_lr_model = grid_lr.best_estimator_\n",
        "y_pred_lr = best_lr_model.predict(xval_tfidf)\n",
        "\n",
        "# Logistic Regression Results\n",
        "accuracy_lr = accuracy_score(yval, y_pred_lr)\n",
        "report_lr = classification_report(yval, y_pred_lr)\n",
        "print(f\"\\nLogistic Regression Accuracy Score: {accuracy_lr}\")\n",
        "print(\"\\nClassification Report:\\n\", report_lr)\n",
        "\n",
        "# Confusion Matrix for Logistic Regression\n",
        "conf_matrix_lr = confusion_matrix(yval, y_pred_lr)"
      ],
      "metadata": {
        "colab": {
          "base_uri": "https://localhost:8080/"
        },
        "id": "eT007BRa1x1r",
        "outputId": "7114b13c-e625-4788-b1b5-db4f9b356e81"
      },
      "execution_count": null,
      "outputs": [
        {
          "output_type": "stream",
          "name": "stdout",
          "text": [
            "\n",
            "Running hyperparameter tuning for Logistic Regression...\n",
            "\n",
            "Logistic Regression Accuracy Score: 0.7824675324675324\n",
            "\n",
            "Classification Report:\n",
            "                  precision    recall  f1-score   support\n",
            "\n",
            "        fantasy       0.78      0.94      0.86        69\n",
            "        history       0.86      0.67      0.75        18\n",
            "         horror       0.70      0.47      0.56        15\n",
            "     psychology       0.85      0.81      0.83        21\n",
            "        romance       0.56      0.38      0.45        24\n",
            "        science       0.75      0.71      0.73        21\n",
            "science_fiction       1.00      0.40      0.57         5\n",
            "         sports       1.00      0.71      0.83        17\n",
            "       thriller       0.77      0.89      0.82       100\n",
            "         travel       0.87      0.72      0.79        18\n",
            "\n",
            "       accuracy                           0.78       308\n",
            "      macro avg       0.81      0.67      0.72       308\n",
            "   weighted avg       0.78      0.78      0.77       308\n",
            "\n"
          ]
        }
      ]
    },
    {
      "cell_type": "code",
      "source": [
        "# Support Vector Machine (SVM) - Hyperparameter Tuning\n",
        "print(\"\\nRunning hyperparameter tuning for SVM...\")\n",
        "param_grid_svm = {'C': [0.1, 1, 10, 100]}  # SVM hyperparameter tuning\n",
        "grid_svm = GridSearchCV(svm.SVC(kernel='linear', class_weight='balanced'), param_grid_svm, cv=5, n_jobs=-1, scoring='accuracy')\n",
        "grid_svm.fit(xtrain_tfidf, ytrain)\n",
        "\n",
        "# Evaluate the best SVM model\n",
        "best_svm_model = grid_svm.best_estimator_\n",
        "y_pred_svm = best_svm_model.predict(xval_tfidf)\n",
        "\n",
        "# SVM Results\n",
        "accuracy_svm = accuracy_score(yval, y_pred_svm)\n",
        "report_svm = classification_report(yval, y_pred_svm)\n",
        "print(f\"\\nSVM Accuracy Score: {accuracy_svm}\")\n",
        "print(\"\\nClassification Report:\\n\", report_svm)\n",
        "\n",
        "# Confusion Matrix for SVM\n",
        "conf_matrix_svm = confusion_matrix(yval, y_pred_svm)"
      ],
      "metadata": {
        "colab": {
          "base_uri": "https://localhost:8080/"
        },
        "id": "eX8BOzUi1xzW",
        "outputId": "5dc2cb67-2d38-49f6-c2aa-1e45c00360ed"
      },
      "execution_count": null,
      "outputs": [
        {
          "output_type": "stream",
          "name": "stdout",
          "text": [
            "\n",
            "Running hyperparameter tuning for SVM...\n",
            "\n",
            "SVM Accuracy Score: 0.7662337662337663\n",
            "\n",
            "Classification Report:\n",
            "                  precision    recall  f1-score   support\n",
            "\n",
            "        fantasy       0.80      0.96      0.87        69\n",
            "        history       0.80      0.67      0.73        18\n",
            "         horror       0.58      0.47      0.52        15\n",
            "     psychology       0.85      0.81      0.83        21\n",
            "        romance       0.44      0.33      0.38        24\n",
            "        science       0.79      0.71      0.75        21\n",
            "science_fiction       0.67      0.40      0.50         5\n",
            "         sports       1.00      0.59      0.74        17\n",
            "       thriller       0.76      0.87      0.81       100\n",
            "         travel       0.86      0.67      0.75        18\n",
            "\n",
            "       accuracy                           0.77       308\n",
            "      macro avg       0.76      0.65      0.69       308\n",
            "   weighted avg       0.76      0.77      0.76       308\n",
            "\n"
          ]
        }
      ]
    },
    {
      "cell_type": "code",
      "source": [
        "# Random Forest - Hyperparameter Tuning\n",
        "print(\"\\nRunning hyperparameter tuning for Random Forest...\")\n",
        "param_grid_rf = {'n_estimators': [50, 100, 200], 'max_depth': [5, 10, 15]}  # Random Forest hyperparameter tuning\n",
        "grid_rf = GridSearchCV(RandomForestClassifier(class_weight='balanced'), param_grid_rf, cv=5, n_jobs=-1, scoring='accuracy')\n",
        "grid_rf.fit(xtrain_tfidf, ytrain)\n",
        "\n",
        "# Evaluate the best Random Forest model\n",
        "best_rf_model = grid_rf.best_estimator_\n",
        "y_pred_rf = best_rf_model.predict(xval_tfidf)\n",
        "\n",
        "# Random Forest Results\n",
        "accuracy_rf = accuracy_score(yval, y_pred_rf)\n",
        "report_rf = classification_report(yval, y_pred_rf)\n",
        "print(f\"\\nRandom Forest Accuracy Score: {accuracy_rf}\")\n",
        "print(\"\\nClassification Report:\\n\", report_rf)\n",
        "\n",
        "# Confusion Matrix for Random Forest\n",
        "conf_matrix_rf = confusion_matrix(yval, y_pred_rf)"
      ],
      "metadata": {
        "colab": {
          "base_uri": "https://localhost:8080/"
        },
        "id": "6Dm6PjMF1xwN",
        "outputId": "b9adca72-f4af-40ac-e539-7d7c0bc9bc1d"
      },
      "execution_count": null,
      "outputs": [
        {
          "output_type": "stream",
          "name": "stdout",
          "text": [
            "\n",
            "Running hyperparameter tuning for Random Forest...\n",
            "\n",
            "Random Forest Accuracy Score: 0.6915584415584416\n",
            "\n",
            "Classification Report:\n",
            "                  precision    recall  f1-score   support\n",
            "\n",
            "        fantasy       0.78      0.72      0.75        69\n",
            "        history       0.65      0.72      0.68        18\n",
            "         horror       0.31      0.27      0.29        15\n",
            "     psychology       0.75      0.86      0.80        21\n",
            "        romance       0.42      0.33      0.37        24\n",
            "        science       0.79      0.71      0.75        21\n",
            "science_fiction       0.60      0.60      0.60         5\n",
            "         sports       0.82      0.82      0.82        17\n",
            "       thriller       0.70      0.73      0.71       100\n",
            "         travel       0.68      0.83      0.75        18\n",
            "\n",
            "       accuracy                           0.69       308\n",
            "      macro avg       0.65      0.66      0.65       308\n",
            "   weighted avg       0.69      0.69      0.69       308\n",
            "\n"
          ]
        }
      ]
    },
    {
      "cell_type": "code",
      "source": [
        "from datetime import datetime\n",
        "from sklearn import svm\n",
        "from sklearn.metrics import accuracy_score, classification_report, confusion_matrix\n",
        "from sklearn.ensemble import RandomForestClassifier\n",
        "from sklearn.linear_model import LogisticRegression\n",
        "import pandas as pd  # Import pandas for Series manipulation\n",
        "\n",
        "start = datetime.now()\n",
        "\n",
        "# Logistic Regression\n",
        "print(\"\\nTraining Logistic Regression...\")\n",
        "log_reg = LogisticRegression(class_weight='balanced')\n",
        "log_reg.fit(xtrain_tfidf, ytrain)\n",
        "\n",
        "# Make predictions for the first 10 examples from validation set\n",
        "test_samples = xval_tfidf[:10]  # Select the first 10 book samples\n",
        "predictions_lr = log_reg.predict(test_samples)\n",
        "\n",
        "# Convert yval to a pandas Series for proper index-based access\n",
        "yval_series = pd.Series(yval)\n",
        "\n",
        "print(\"\\nLogistic Regression Predictions:\")\n",
        "for idx, pred in enumerate(predictions_lr):\n",
        "    print(f\"Book: {books.iloc[idx]['title']}\")\n",
        "    print(f\"Predicted genre: {pred}\")\n",
        "    print(f\"Actual genre: {yval_series.iloc[idx]}\")\n",
        "    print(\"-\" * 50)  # Separator for clarity between predictions\n",
        "\n",
        "# Evaluate Logistic Regression\n",
        "accuracy_lr = accuracy_score(yval[:10], predictions_lr)\n",
        "report_lr = classification_report(yval[:10], predictions_lr)\n",
        "print(\"\\nLogistic Regression Accuracy Score:\", accuracy_lr)\n",
        "print(\"\\nLogistic Regression Classification Report:\")\n",
        "print(report_lr)\n",
        "\n",
        "# SVM\n",
        "print(\"\\nTraining SVM...\")\n",
        "svc = svm.SVC(kernel='linear', class_weight='balanced')\n",
        "svc.fit(xtrain_tfidf, ytrain)\n",
        "\n",
        "# Make predictions for the first 10 examples from validation set\n",
        "predictions_svm = svc.predict(test_samples)\n",
        "\n",
        "print(\"\\nSVM Predictions:\")\n",
        "for idx, pred in enumerate(predictions_svm):\n",
        "    print(f\"Book: {books.iloc[idx]['title']}\")\n",
        "    print(f\"Predicted genre: {pred}\")\n",
        "    print(f\"Actual genre: {yval_series.iloc[idx]}\")\n",
        "    print(\"-\" * 50)  # Separator for clarity between predictions\n",
        "\n",
        "# Evaluate SVM\n",
        "accuracy_svm = accuracy_score(yval[:10], predictions_svm)\n",
        "report_svm = classification_report(yval[:10], predictions_svm)\n",
        "print(\"\\nSVM Accuracy Score:\", accuracy_svm)\n",
        "print(\"\\nSVM Classification Report:\")\n",
        "print(report_svm)\n",
        "\n",
        "# Random Forest\n",
        "print(\"\\nTraining Random Forest...\")\n",
        "rf = RandomForestClassifier(n_estimators=100, class_weight='balanced')\n",
        "rf.fit(xtrain_tfidf, ytrain)\n",
        "\n",
        "# Make predictions for the first 10 examples from validation set\n",
        "predictions_rf = rf.predict(test_samples)\n",
        "\n",
        "print(\"\\nRandom Forest Predictions:\")\n",
        "for idx, pred in enumerate(predictions_rf):\n",
        "    print(f\"Book: {books.iloc[idx]['title']}\")\n",
        "    print(f\"Predicted genre: {pred}\")\n",
        "    print(f\"Actual genre: {yval_series.iloc[idx]}\")\n",
        "    print(\"-\" * 50)  # Separator for clarity between predictions\n",
        "\n",
        "# Evaluate Random Forest\n",
        "accuracy_rf = accuracy_score(yval[:10], predictions_rf)\n",
        "report_rf = classification_report(yval[:10], predictions_rf)\n",
        "print(\"\\nRandom Forest Accuracy Score:\", accuracy_rf)\n",
        "print(\"\\nRandom Forest Classification Report:\")\n",
        "print(report_rf)\n",
        "\n",
        "# Execution Time\n",
        "print(\"\\nExecuted in:\", datetime.now() - start)\n"
      ],
      "metadata": {
        "colab": {
          "base_uri": "https://localhost:8080/"
        },
        "id": "6kbjHvuo1xmZ",
        "outputId": "212a85f6-f15d-4181-ce8f-3f42ffc44d6e"
      },
      "execution_count": null,
      "outputs": [
        {
          "output_type": "stream",
          "name": "stdout",
          "text": [
            "\n",
            "Training Logistic Regression...\n",
            "\n",
            "Logistic Regression Predictions:\n",
            "Book: Sapiens: A Brief History of Humankind\n",
            "Predicted genre: fantasy\n",
            "Actual genre: fantasy\n",
            "--------------------------------------------------\n",
            "Book: Guns, Germs, and Steel: The Fates of Human Societies\n",
            "Predicted genre: thriller\n",
            "Actual genre: thriller\n",
            "--------------------------------------------------\n",
            "Book: A People's History of the United States\n",
            "Predicted genre: romance\n",
            "Actual genre: romance\n",
            "--------------------------------------------------\n",
            "Book: The Devil in the White City: Murder, Magic, and Madness at the Fair That Changed America\n",
            "Predicted genre: thriller\n",
            "Actual genre: thriller\n",
            "--------------------------------------------------\n",
            "Book: The Diary of a Young Girl\n",
            "Predicted genre: romance\n",
            "Actual genre: travel\n",
            "--------------------------------------------------\n",
            "Book: 1776\n",
            "Predicted genre: history\n",
            "Actual genre: history\n",
            "--------------------------------------------------\n",
            "Book: A Short History of Nearly Everything\n",
            "Predicted genre: romance\n",
            "Actual genre: travel\n",
            "--------------------------------------------------\n",
            "Book: The Rise and Fall of the Third Reich: A History of Nazi Germany\n",
            "Predicted genre: fantasy\n",
            "Actual genre: fantasy\n",
            "--------------------------------------------------\n",
            "Book: 1491: New Revelations of the Americas Before Columbus\n",
            "Predicted genre: thriller\n",
            "Actual genre: fantasy\n",
            "--------------------------------------------------\n",
            "Book: SPQR: A History of Ancient Rome\n",
            "Predicted genre: horror\n",
            "Actual genre: horror\n",
            "--------------------------------------------------\n",
            "\n",
            "Logistic Regression Accuracy Score: 0.7\n",
            "\n",
            "Logistic Regression Classification Report:\n",
            "              precision    recall  f1-score   support\n",
            "\n",
            "     fantasy       1.00      0.67      0.80         3\n",
            "     history       1.00      1.00      1.00         1\n",
            "      horror       1.00      1.00      1.00         1\n",
            "     romance       0.33      1.00      0.50         1\n",
            "    thriller       0.67      1.00      0.80         2\n",
            "      travel       0.00      0.00      0.00         2\n",
            "\n",
            "    accuracy                           0.70        10\n",
            "   macro avg       0.67      0.78      0.68        10\n",
            "weighted avg       0.67      0.70      0.65        10\n",
            "\n",
            "\n",
            "Training SVM...\n"
          ]
        },
        {
          "output_type": "stream",
          "name": "stderr",
          "text": [
            "/usr/local/lib/python3.10/dist-packages/sklearn/metrics/_classification.py:1531: UndefinedMetricWarning: Precision is ill-defined and being set to 0.0 in labels with no predicted samples. Use `zero_division` parameter to control this behavior.\n",
            "  _warn_prf(average, modifier, f\"{metric.capitalize()} is\", len(result))\n",
            "/usr/local/lib/python3.10/dist-packages/sklearn/metrics/_classification.py:1531: UndefinedMetricWarning: Precision is ill-defined and being set to 0.0 in labels with no predicted samples. Use `zero_division` parameter to control this behavior.\n",
            "  _warn_prf(average, modifier, f\"{metric.capitalize()} is\", len(result))\n",
            "/usr/local/lib/python3.10/dist-packages/sklearn/metrics/_classification.py:1531: UndefinedMetricWarning: Precision is ill-defined and being set to 0.0 in labels with no predicted samples. Use `zero_division` parameter to control this behavior.\n",
            "  _warn_prf(average, modifier, f\"{metric.capitalize()} is\", len(result))\n"
          ]
        },
        {
          "output_type": "stream",
          "name": "stdout",
          "text": [
            "\n",
            "SVM Predictions:\n",
            "Book: Sapiens: A Brief History of Humankind\n",
            "Predicted genre: fantasy\n",
            "Actual genre: fantasy\n",
            "--------------------------------------------------\n",
            "Book: Guns, Germs, and Steel: The Fates of Human Societies\n",
            "Predicted genre: thriller\n",
            "Actual genre: thriller\n",
            "--------------------------------------------------\n",
            "Book: A People's History of the United States\n",
            "Predicted genre: romance\n",
            "Actual genre: romance\n",
            "--------------------------------------------------\n",
            "Book: The Devil in the White City: Murder, Magic, and Madness at the Fair That Changed America\n",
            "Predicted genre: thriller\n",
            "Actual genre: thriller\n",
            "--------------------------------------------------\n",
            "Book: The Diary of a Young Girl\n",
            "Predicted genre: romance\n",
            "Actual genre: travel\n",
            "--------------------------------------------------\n",
            "Book: 1776\n",
            "Predicted genre: history\n",
            "Actual genre: history\n",
            "--------------------------------------------------\n",
            "Book: A Short History of Nearly Everything\n",
            "Predicted genre: romance\n",
            "Actual genre: travel\n",
            "--------------------------------------------------\n",
            "Book: The Rise and Fall of the Third Reich: A History of Nazi Germany\n",
            "Predicted genre: fantasy\n",
            "Actual genre: fantasy\n",
            "--------------------------------------------------\n",
            "Book: 1491: New Revelations of the Americas Before Columbus\n",
            "Predicted genre: thriller\n",
            "Actual genre: fantasy\n",
            "--------------------------------------------------\n",
            "Book: SPQR: A History of Ancient Rome\n",
            "Predicted genre: horror\n",
            "Actual genre: horror\n",
            "--------------------------------------------------\n",
            "\n",
            "SVM Accuracy Score: 0.7\n",
            "\n",
            "SVM Classification Report:\n",
            "              precision    recall  f1-score   support\n",
            "\n",
            "     fantasy       1.00      0.67      0.80         3\n",
            "     history       1.00      1.00      1.00         1\n",
            "      horror       1.00      1.00      1.00         1\n",
            "     romance       0.33      1.00      0.50         1\n",
            "    thriller       0.67      1.00      0.80         2\n",
            "      travel       0.00      0.00      0.00         2\n",
            "\n",
            "    accuracy                           0.70        10\n",
            "   macro avg       0.67      0.78      0.68        10\n",
            "weighted avg       0.67      0.70      0.65        10\n",
            "\n",
            "\n",
            "Training Random Forest...\n"
          ]
        },
        {
          "output_type": "stream",
          "name": "stderr",
          "text": [
            "/usr/local/lib/python3.10/dist-packages/sklearn/metrics/_classification.py:1531: UndefinedMetricWarning: Precision is ill-defined and being set to 0.0 in labels with no predicted samples. Use `zero_division` parameter to control this behavior.\n",
            "  _warn_prf(average, modifier, f\"{metric.capitalize()} is\", len(result))\n",
            "/usr/local/lib/python3.10/dist-packages/sklearn/metrics/_classification.py:1531: UndefinedMetricWarning: Precision is ill-defined and being set to 0.0 in labels with no predicted samples. Use `zero_division` parameter to control this behavior.\n",
            "  _warn_prf(average, modifier, f\"{metric.capitalize()} is\", len(result))\n",
            "/usr/local/lib/python3.10/dist-packages/sklearn/metrics/_classification.py:1531: UndefinedMetricWarning: Precision is ill-defined and being set to 0.0 in labels with no predicted samples. Use `zero_division` parameter to control this behavior.\n",
            "  _warn_prf(average, modifier, f\"{metric.capitalize()} is\", len(result))\n"
          ]
        },
        {
          "output_type": "stream",
          "name": "stdout",
          "text": [
            "\n",
            "Random Forest Predictions:\n",
            "Book: Sapiens: A Brief History of Humankind\n",
            "Predicted genre: fantasy\n",
            "Actual genre: fantasy\n",
            "--------------------------------------------------\n",
            "Book: Guns, Germs, and Steel: The Fates of Human Societies\n",
            "Predicted genre: thriller\n",
            "Actual genre: thriller\n",
            "--------------------------------------------------\n",
            "Book: A People's History of the United States\n",
            "Predicted genre: romance\n",
            "Actual genre: romance\n",
            "--------------------------------------------------\n",
            "Book: The Devil in the White City: Murder, Magic, and Madness at the Fair That Changed America\n",
            "Predicted genre: thriller\n",
            "Actual genre: thriller\n",
            "--------------------------------------------------\n",
            "Book: The Diary of a Young Girl\n",
            "Predicted genre: thriller\n",
            "Actual genre: travel\n",
            "--------------------------------------------------\n",
            "Book: 1776\n",
            "Predicted genre: history\n",
            "Actual genre: history\n",
            "--------------------------------------------------\n",
            "Book: A Short History of Nearly Everything\n",
            "Predicted genre: fantasy\n",
            "Actual genre: travel\n",
            "--------------------------------------------------\n",
            "Book: The Rise and Fall of the Third Reich: A History of Nazi Germany\n",
            "Predicted genre: thriller\n",
            "Actual genre: fantasy\n",
            "--------------------------------------------------\n",
            "Book: 1491: New Revelations of the Americas Before Columbus\n",
            "Predicted genre: thriller\n",
            "Actual genre: fantasy\n",
            "--------------------------------------------------\n",
            "Book: SPQR: A History of Ancient Rome\n",
            "Predicted genre: fantasy\n",
            "Actual genre: horror\n",
            "--------------------------------------------------\n",
            "\n",
            "Random Forest Accuracy Score: 0.5\n",
            "\n",
            "Random Forest Classification Report:\n",
            "              precision    recall  f1-score   support\n",
            "\n",
            "     fantasy       0.33      0.33      0.33         3\n",
            "     history       1.00      1.00      1.00         1\n",
            "      horror       0.00      0.00      0.00         1\n",
            "     romance       1.00      1.00      1.00         1\n",
            "    thriller       0.40      1.00      0.57         2\n",
            "      travel       0.00      0.00      0.00         2\n",
            "\n",
            "    accuracy                           0.50        10\n",
            "   macro avg       0.46      0.56      0.48        10\n",
            "weighted avg       0.38      0.50      0.41        10\n",
            "\n",
            "\n",
            "Executed in: 0:00:08.718838\n"
          ]
        },
        {
          "output_type": "stream",
          "name": "stderr",
          "text": [
            "/usr/local/lib/python3.10/dist-packages/sklearn/metrics/_classification.py:1531: UndefinedMetricWarning: Precision is ill-defined and being set to 0.0 in labels with no predicted samples. Use `zero_division` parameter to control this behavior.\n",
            "  _warn_prf(average, modifier, f\"{metric.capitalize()} is\", len(result))\n",
            "/usr/local/lib/python3.10/dist-packages/sklearn/metrics/_classification.py:1531: UndefinedMetricWarning: Precision is ill-defined and being set to 0.0 in labels with no predicted samples. Use `zero_division` parameter to control this behavior.\n",
            "  _warn_prf(average, modifier, f\"{metric.capitalize()} is\", len(result))\n",
            "/usr/local/lib/python3.10/dist-packages/sklearn/metrics/_classification.py:1531: UndefinedMetricWarning: Precision is ill-defined and being set to 0.0 in labels with no predicted samples. Use `zero_division` parameter to control this behavior.\n",
            "  _warn_prf(average, modifier, f\"{metric.capitalize()} is\", len(result))\n"
          ]
        }
      ]
    },
    {
      "cell_type": "code",
      "source": [
        "import matplotlib.pyplot as plt\n",
        "\n",
        "# Model names and accuracies\n",
        "models = ['Logistic Regression', 'SVM', 'Random Forest']\n",
        "accuracies = [accuracy_lr, accuracy_svm, accuracy_rf]\n",
        "\n",
        "# Plotting the bar graph\n",
        "plt.figure(figsize=(8, 5))\n",
        "plt.bar(models, accuracies, color=['blue', 'green', 'red'])\n",
        "\n",
        "# Adding labels and title\n",
        "plt.xlabel('Models')\n",
        "plt.ylabel('Accuracy')\n",
        "plt.title('Comparison of Model Accuracies')\n",
        "plt.ylim(0, 1)  # Setting y-axis range from 0 to 1\n",
        "plt.grid(axis='y', linestyle='--', alpha=0.7, which='both')\n",
        "\n",
        "# Displaying the graph\n",
        "plt.show()\n"
      ],
      "metadata": {
        "colab": {
          "base_uri": "https://localhost:8080/",
          "height": 487
        },
        "id": "UJDSzDHG3olv",
        "outputId": "6d4dfb63-fc03-484d-9578-12792f15a388"
      },
      "execution_count": null,
      "outputs": [
        {
          "output_type": "display_data",
          "data": {
            "text/plain": [
              "<Figure size 800x500 with 1 Axes>"
            ],
            "image/png": "[encoded data removed]"
          },
          "metadata": {}
        }
      ]
    },
    {
      "cell_type": "code",
      "source": [],
      "metadata": {
        "id": "RgcQOE_UEcqn"
      },
      "execution_count": null,
      "outputs": []
    }
  ]
}